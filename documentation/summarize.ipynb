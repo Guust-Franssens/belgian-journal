{
 "cells": [
  {
   "cell_type": "code",
   "execution_count": 1,
   "metadata": {},
   "outputs": [],
   "source": [
    "import json\n",
    "import os\n",
    "\n",
    "from dotenv import load_dotenv\n",
    "from IPython.display import Markdown, display\n",
    "from openai import AzureOpenAI"
   ]
  },
  {
   "cell_type": "markdown",
   "metadata": {},
   "source": [
    "Load environment variables (needed for Azure OpenAI)"
   ]
  },
  {
   "cell_type": "code",
   "execution_count": 2,
   "metadata": {},
   "outputs": [
    {
     "data": {
      "text/plain": [
       "True"
      ]
     },
     "execution_count": 2,
     "metadata": {},
     "output_type": "execute_result"
    }
   ],
   "source": [
    "load_dotenv()"
   ]
  },
  {
   "cell_type": "markdown",
   "metadata": {},
   "source": [
    "Setup Azure OpenAI client"
   ]
  },
  {
   "cell_type": "code",
   "execution_count": 3,
   "metadata": {},
   "outputs": [],
   "source": [
    "client = AzureOpenAI(\n",
    "    azure_endpoint=os.environ[\"AZURE_OPENAI_URL\"],\n",
    "    api_key=os.environ[\"AZURE_OPENAI_KEY\"],\n",
    "    api_version=\"2024-02-01\",\n",
    ")"
   ]
  },
  {
   "cell_type": "markdown",
   "metadata": {},
   "source": [
    "Load in an example publication to summarize."
   ]
  },
  {
   "cell_type": "code",
   "execution_count": 4,
   "metadata": {},
   "outputs": [
    {
     "data": {
      "text/plain": [
       "{'vat': '799497754',\n",
       " 'pubid': '23070228',\n",
       " 'act_description': 'RUBRIEK HERSTRUCTURERING (FUSIE, SPLITSING, OVERDRACHT VERMOGEN, ENZ...)',\n",
       " 'company_name': 'NORRIQ FINANCIAL SERVICES',\n",
       " 'company_juridical_form': 'BV',\n",
       " 'address': 'ZUIDERLAAN 11, BUS 11 8790 WAREGEM',\n",
       " 'street': 'ZUIDERLAAN 11, BUS 11',\n",
       " 'zipcode': '8790',\n",
       " 'city': 'WAREGEM',\n",
       " 'publication_date': '2023-05-31',\n",
       " 'publication_number': '0070228',\n",
       " 'publication_link': 'https://www.ejustice.just.fgov.be/tsv_pdf/2023/05/31/23070228.pdf',\n",
       " 'text': 'Ondernemingsnr : 0799 497 754\\nNaam\\n(voluit) : NORRIQ Financial Services\\n(verkort) :\\nRechtsvorm : Besloten Vennootschap\\nVolledig adres v.d. zetel : Zuiderlaan 11, bus 11, 8790 Waregem\\nOnderwerp akte : Voorstel tot overdracht van een bedrijfstak van EY Consulting BV aan\\nNORRIQ Financial Services BV opgemaakt overeenkomstig artikel 12:103\\nvan het Wetboek van Vennootschappen en Verenigingen\\nOvereenkomstig de artikelen 12:103 juncto 12:93 van het Wetboek van vennootschappen en verenigingen,\\nhebben de bestuursorganen van EY Consulting BV en NORRIQ Financial Services BV in gezamenlijk overleg\\neen voorstel tot overdracht van een bedrijfstak opgesteld, waarin wordt voorgesteld dat NORRIQ Financial\\nServices BV een bedrijfstak overneemt van EY Consulting BV.\\nI.BETROKKEN PARTIJEN EN VOORGENOMEN VERRICHTING\\n1.1.Betrokken partijen\\n1.NORRIQ Financial Services BV, met zetel te Zuiderlaan 11, Bus 11, 8790 Waregem, ingeschreven in het\\nrechtspersonenregister van Gent (afdeling Kortrijk), onder het nummer 0799.497.754 (de \"Verkrijgende\\nVennootschap\");\\t--\\n2.EY Consulting BV, met zetel te De Kleetlaan 2, 1831 Diegem, ingeschreven in het rechtspersonenregister\\nvan Brussel (Nederlandstalige divisie), onder het nummer 0471.938.850 (de \"Overdragende Vennootschap\");\\nhierna ook samen naar verwezen als de \"Partijen\".\\n1.2.Voorgenomen verrichting\\nDe voorgestelde verrichting betreft een overdracht ten bezwarende titel van de bedrijfstak van de\\nOverdragende Vennootschap, die consultancy diensten levert aan een Franse beursgenoteerde groep met\\nactiviteiten in België. De bedrijfstak wordt nader beschreven en gedefinieerd in het ontwerp van Asset Purchase\\nand Sale Agreement (de \"Bedrijfstak\") van de Overdragende Vennootschap ten gunste van de Verkrijgende\\nVennootschap (de \"Overdracht van Bedrijfstak\"). De Bedrijfstak bestaat uit een geheel van activa en passiva\\ndie, vanuit technisch en organisatorisch oogpunt, autonoom kunnen werken in de zin van artikel 12:11 van het\\nWetboek van vennootschappen en verenigingen.\\nOvereenkomstig artikel 12:103 van het Wetboek van vennootschappen en verenigingen, hebben de\\nbestuursorganen van de Partijen besloten om deze voorgestelde Overdracht van Bedrijfstak te onderwerpen\\naan de regeling zoals bepaald voor de inbreng van bedrijfstak, omschreven in de artikelen 12:93 tot 12:95 en\\n12:97 tot 12:100 van het Wetboek van vennootschappen en verenigingen, zodat de Overdracht van Bedrijfstak\\nvan rechtswege tot gevolg heeft dat het geheel van de aan de Bedrijfstak verbonden activa en passiva worden\\novergedragen aan de Verkrijgende Vennootschap, overeenkomstig artikel 12:96 van het Wetboek van\\nvennootschappen en verenigingen.\\nTen gevolge van de Overdracht van Bedrijfstak zullen de personeelsleden in dienst van de Overdragende\\nVennootschap en exclusief tewerkgesteld in de over te dragen Bedrijfstak (het \"Personeel\") na de Overdracht\\nvan Bedrijfstak worden tewerkgesteld door de Verkrijgende Vennootschap. Het Personeel werd op 15 maart\\n2023 tijdens een Bijzondere Ondernemingsraad in kennis gesteld van de voorgestelde Overdracht van\\nBedrijfstak overeenkomstig artikel 15bis van de bij Koninklijk Besluit van 25 juli 1985 geratificeerde Collectieve\\nArbeidsovereenkomst nummer 32bis van 7 juni 1985 (dewelke werd afgesloten in de Nationale Arbeidsraad) en\\novereenkomstig artikel 11 van Collectieve Arbeidsovereenkomst nummer 9 van 9 maart 1972.\\nIngevolge de beslissing van de bestuursorganen van de Partijen om, overeenkomstig artikel 12:103 van het\\nWetboek van vennootschappen en verenigingen, de voorgestelde Overdracht van Bedrijfstak te onderwerpen\\naan de toepassing van de regeling omschreven in de artikelen 12:93 tot 12:95 en 12:97 tot 12:100 van het\\nWetboek van vennootschappen en verenigingen, hebben de bestuursorganen van de Partijen huidig\\ngezamenlijk voorstel tot overdracht van Bedrijfstak ten bezwarende titel opgesteld en goedgekeurd\\novereenkomstig artikelen 12:103 juncto 12:93 van het Wetboek van vennootschappen en verenigingen (het\\n\"Gezamenlijk Voorstel tot Overdracht van Bedrijfstak\").\\nHet Gezamenlijk Voorstel tot Overdracht van Bedrijfstak zal ten minste zes weken vóór de datum waarop\\nde authentieke akte houdende vaststelling van de Overdracht van de Bedrijfstak wordt verleden, neergelegd\\nworden ter griffie van de bevoegde ondernemingsrechtbank van respectievelijk de Verkrijgende Vennootschap\\nen de Overdragende Vennootschap overeenkomstig artikel 12:103, 2de lid juncto 12:93, §3 van het Wetboek\\nvan vennootschappen en verenigingen. Een mededeling van deze neerleggingen zal bekendgemaakt worden\\nin de Bijlagen tot het Belgisch Staatsblad.\\nDe authentieke akte houdende vaststelling van de Overdracht van Bedrijfstak zal neergelegd worden op de\\nbevoegde griffie van de ondernemingsrechtbank van respectievelijk de Verkrijgende Vennootschap en de\\nOverdragende Vennootschap, overeenkomstig de artikelen 12:103, 2de lid juncto 12:95 van het Wetboek van\\nvennootschappen en verenigingen en zal worden bekendgemaakt bij uittreksel in de Bijlagen tot het Belgisch\\nStaatsblad. Vanaf voormelde bekendmaking in de Bijlagen tot het Belgisch Staatsblad zal de Overdracht van\\nde Bedrijfstak overeenkomstig artikel 12:98 van het Wetboek van vennootschappen en verenigingen\\ntegenstelbaar zijn aan derden.\\nILIDENTIFICATIE VAN DE BIJ DE OVERDRACHT VAN DE BEDRIJFSTAK BETROKKEN\\nVENNOOTSCHAPPEN (ARTIKELEN 12:103 JUNCTO 12:93, §2, 1° VAN HET WETBOEK VAN\\nVENNOOTSCHAPPEN EN VERENIGINGEN)\\n2.1Identificatie van de Overdragende Vennootschap\\nDe Overdragende Vennootschap van de Bedrijfstak is de besloten vennootschap EY Consulting, waarvan\\nde zetel gevestigd is te De Kleetlaan 2, 1831 Diegem.\\nZij is ingeschreven bij de Kruispuntbank van Ondernemingen met ondernemingsnummer 0471.938.850\\n(RPR Brussel (Nederlandstalige divisie) en bij de BTW-administratie onder BTW-nummer BE 0471.938.850.\\nHet voorwerp van de Overdragende Vennootschap luidt, overeenkomstig artikel 3 van haar statuten, als\\nvolgt:\\n\"De vennootschap heeft tot voorwerp in België en in het buitenland:\\n- het verstrekken van bedrijfsadvies op het vlak van management, financieel beheer, informaticatechnologie\\nin de ruimste zin, alsmede het verlenen van elke mogelijke vorm van bijstand op dit domein.\\n- het organiseren, begeleiden en adviseren van ondernemingen en private personen, met betrekking tot\\nbedrijfsorganisatorische aangelegenheden, met inbegrip van de personeelszaken en alle daarmee rechtstreeks\\nof onrechtstreeks verbonden handelingen, zoals de selectie en aanwerving van personeel, alsook de opleiding\\nervan.\\nDe vennootschap kan zich zowel tot waarborg van eigen verbintenissen als tot waarborg van verbintenissen\\nvan derden borg stellen, onder meer door haar goederen in hypotheek of in pand te geven, inclusief de eigen\\nhandelszaak.\\nDe vennootschap kan in het algemeen alle commerciële, industriële, financiële, roerende of onroerende\\nhandelingen verrichten in rechtstreeks of onrechtstreeks verband met haar voorwerp of welke van aard zouden\\nzijn de verwezenlijking ervan geheel of ten dele te vergemakkelijken.\\nZij kan, zowel in België als in het buitenland alle verrichtingen stellen die rechtstreeks of onrechtstreeks zelfs\\ngedeeltelijk verband houden met haar voorwerp en welke van aard zijn er de verwezenlijking van te\\nvergemakkelijken of te bevorderen. Zij kan ondermeer elke samenwerkingsovereenkomst afsluiten die\\nverenigbaar is met haar voorwerp.\\nZij kan bij wijze van inbreng, fusie, inschrijving, deelname, financiële tussenkomst of anders, belangen\\nhebben in jedere bestaande of op te richten vennootschap of onderneming in België of in het buitenland,\\nwaarvan het voorwerp analoog of connex met het hare is of nuttig is ter verwezenlijking van haar voorwerp zoals\\nhet hierboven omschreven wordt.\"\\n2.2Identificatie van de Verkrijgende Vennootschap\\nDe Verkrijgende Vennootschap van de Bedrijfstak is de besloten vennootschap NORRIQ Financial Services,\\nwaarvan de zetel gevestigd is te Zuiderlaan 11, bus 11, 8790 Waregem.\\nZij is ingeschreven bij de Kruispuntbank van Ondernemingen met ondernemingsnummer 0799.497.754\\n(RPR Gent (afdeling Kortrijk)) en bij de BTW-administratie onder BTW-nummer BE 0799.497.754.\\nHet voorwerp van de Verkrijgende Vennootschap luidt, overeenkomstig artikel 3 van haar statuten, als volgt:\\n\"De vennootschap heeft tot voorwerp, zowel in België als in het buitenland, voor eigen rekening of voor\\nrekening van derden, of door deelname van dezen:\\na)Voor eigen rekening, voor rekening van derden, of in deelneming met derden:\\n·computeradviesbureau inhoudende onder meer het verlenen van advies over soorten computers\\n(hardware) en hun configuratie en toepassing van bijhorende programmatuur (software); de activiteiten van\\nsysteemintegrators;\\n·ontwerpen, analyseren, programmeren en eventueel uitgeven van gebruiksklare systemen, inclusief\\nsystemen van automatische data-identificatie, het verlenen van advies met betrekking tot\\ninformaticaprogramma\\'s, het verlenen van bijstand bij de toepassing van programma\\'s;\\n·gegevensverwerking, het al dan niet permanent verwerken van gegevens met behulp van een eigen\\nprogramma of een programma van de klant; het permanent beheren van en werken met de\\ngegevensverwerkende apparatuur van derden;\\n·het verstrekken van bedrijfsadvies op vlak van management, financieel beheer, regelgeving,\\ninformaticatechnologie en transactieadvies in de ruimste zin, alsmede het verlenen van elke mogelijke vorm van\\nbijstand op dit domein;\\n·het organiseren, begeleiden en adviseren van ondernemingen en private personen, met betrekking tot\\nbedrijfsorganisatorische aangelegenheden, met inbegrip van de personeelszaken en alle daarmee rechtstreeks\\nof onrechtstreeks verbonden handelingen, zoals de selectie en aanwerving van personeel, alsook de opleiding\\nervan.\\nb)Voor eigen rekening:\\n·het aanleggen, het oordeelkundig uitbouwen en beheren van een onroerend vermogen; alle verrichtingen\\nmet betrekking tot onroerende goederen en onroerende zakelijke rechten zoals de huurfinanciering van\\nonroerende goeden aan derden, het aankopen, verkopen, ruilen, bouwen, verbouwen, onderhouden, verhuren,\\nhuren, verkavelen, prospecteren en uitbaten van onroerende goederen; de aan- en verkoop, huur en verhuur\\nvan roerende goederen, alsmede alle handelingen die rechtstreeks of onrechtstreeks met dit doel in verband\\nstaan en die van aard zijn de opbrengst van de roerende en onroerende goederen te bevorderen, alsmede zich\\nborg te stellen voor het goede verloop van verbintenissen door derde personen aangegaan die het genot zouden\\nhebben van deze roerende en onroerende goederen;\\n·het aanleggen, het oordeelkundig uitbouwen en beheren van een roerend patrimonium, alle verrichtingen\\nmet betrekking tot roerende goederen en rechten, van welke aard ook, zoals het verwerven door inschrijving of\\naankoop en het beheren van aandelen, obligaties, kasbons of andere roerende waarden, van welke vorm ook,\\nvan Belgische of buitenlandse, bestaande of nog op te richten rechtspersonen en ondernemingen.\\nc)Voor eigen rekening, voor rekening van derden of in deelneming met derden, bijdragen tot de vestiging en\\nde ontwikkeling van rechtspersonen en ondernemingen zoals:\\n·het verwerven van participaties in eender welke vorm in alle bestaande of op te richten rechtspersonen en\\nvennootschappen, het simuleren, de planning, de coördinatie, de ontwikkeling van en deinvestering in\\nrechtspersonen en ondernemingen waarin zij al of niet een participatie aanhoudt:\\n·het toestaan van leningen en kredietopeningen aan rechtspersonen en ondernemingen of particulieren,\\nonder om het even welke vorm; in dit kader kan zij zich ook borg stellen of haar aval verlenen, in de meest ruime\\nzin, alle handels- en financiële operaties verrichten behalve die wettelijk voorbehouden zijn aan depositobanken,\\nhouders van deposito\\'s op korte termijn, spaarkassen, hypotheekmaatschappijen en kapitalisatie-\\nondernemingen;\\n·het verlenen van adviezen van financiële, technische, commerciële of administratieve aard; in de ruimste\\nzin, met uitzondering van adviezen inzake beleggingen en geldplaatsingen; bijstand en diensten verlenen,\\nrechtstreeks of onrechtstreeks op het vlak van administratie en financiën, verkoop, productie en algemeen\\nbestuur;\\n·het waarnemen van alle bestuursopdrachten en opdrachten van vereffenaars, het uitoefenen van\\nopdrachten en functies;\\n·het ontwikkelen, kopen, verkopen, in licentie nemen of geven van octrooien, knowhow en aanverwante\\nimmateriële duurzame activa:\\n·het verlenen van administratieve prestaties en computerservices;\\n·De aan- en verkoop, in- en uitvoer, commissiehandel en vertegenwoordiging van om het even welke\\ngoederen, in \\'t kort tussenpersoon in de handel;\\n·het onderzoeken, de ontwikkeling, de vervaardiging of commercialisering van nieuwe producten, nieuwe\\nvormen van technologie en hun toepassingen.\\nd)de vennootschap mag alle verrichtingen stellen van commerciële, industriële, onroerende, roerende of\\nfinanciële aard die rechtstreeks of onrechtstreeks met haar voorwerp verwant of verknocht zijn of de\\nverwezenlijking ervan kunnen bevorderen.\\nDe vennootschap mag betrokken zijn bij wijze van inbreng, samensmelting, inschrijving of op elke andere\\nwijze, in de ondernemingen, verenigingen of vennootschappen, die een gelijkaardig, soortgelijk of\\nsamenhangend doel hebben of die nuttig zijn voor de verwezenlijking van het geheel of een gedeelte van haar\\nvoorwerp.\\nBovenvermelde opsomming is niet beperkend, zodat de vennootschap alle handelingen kan stellen, die op\\nwelke wijze ook kunnen bijdragen tot de verwezenlijking van haar voorwerp.\\nDe vennootschap mag haar voorwerp verwezenlijken zowel in België als in het buitenland, op alle wijzen en\\nmanieren, die zij het best geschikt zou achten.\\nde vennootschap mag geenszins aan vermogensbeheer of beleggingsadvies doen als bedoeld in de Wetten\\nen Koninklijke Besluiten op de financiële transacties en de financiële marketen en over het vermogensbeheer\\nen het beleggingsadvies.\\nde vennootschap zal zich dienen te onthouden van werkzaamheden die onderworpen zijn aan reglementaire\\nbepalingen voor zover de vennootschap zelf niet aan deze bepalingen voldoet.\\ne)deelnemen in of samenwerken met vennootschappen of ondernemingen die een gelijkaardig of\\ncomplementair voorwerp hebben, wanneer deze deelname of samenwerking het verwezenlijken van het\\nvoorwerp kan bevorderen.\\nf)het uitvoeren van mandaten in andere ondernemingen en vennootschappen.\"\\nIII.DATUM VANAF WELKE DE AANDELEN UITGEREIKT DOOR DE VERKRIJGENDE VENNOOTSCHAP\\nRECHT GEVEN TE DELEN IN DE WINST VAN DE BEDRIJFSTAK, EVENALS ELKE BIJZONDER REGELING\\nMET BETREKKING TOT DIT RECHT (ARTIKELEN 12:103 JUNCTO 12:93, §2, 2° VAN HET WETBOEK VAN\\nVENNOOTSCHAPPEN EN VERENIGINGEN)\\nDe vergoeding die door de Verkrijgende Vennootschap zal verstrekt worden aan de Overdragende\\nVennootschap als tegenprestatie voor de Overdracht van Bedrijfstak, zal uitsluitend bestaan uit een bedrag in\\ncash dat door de Verkrijgende Vennootschap aan de Overdragende Vennootschap zal worden betaald\\novereenkomstig de bepalingen van de Asset Purchase and Sale Agreement.\\nAangezien de vergoeding die door de Verkrijgende Vennootschap aan de Overdragende Vennootschap zal\\nworden verstrekt als tegenprestatie voor de Overdracht van Bedrijfstak enkel bestaat uit cash, zal de\\nVerkrijgende Vennootschap geen nieuwe aandelen uitgeven en uitreiken aan de Overdragende Vennootschap\\nter vergoeding van de Overdracht van Bedrijfstak en bijgevolg is deze bepaling niet van toepassing.\\nIV.DATUM VANAF DEWELKE DE OVERDRACHT VAN DE BEDRIJFSTAK JURIDISCH INWERKING\\nTREEDT\\nDe Overdracht van Bedrijfstak zal Juridisch in werking treden op 1 juli 2023, om 00:00:01 uur of enige latere\\ndatum bepaald door het bestuursorgaan van respectievelijk de Verkrijgende Vennootschap en de Overdragende\\nVennootschap in de authentieke akte houdende vaststelling van de Overdracht van de Bedrijfstak (de\\n\"Overdrachtsdatum\").\\nV.DATUM VANAF DEWELKE DE VERRICHTINGEN VERBONDEN AAN DE BEDRIJFSTAK VAN DE\\nOVERDRAGENDE VENNOOTSCHAP BOEKHOUDKUNDIG GEACHT WORDEN TE ZIJN VERRICHT VOOR\\nREKENING VAN DE VERKRIJGENDE VENNOOTSCHAP (ARTIKELEN 12:103 JUNCTO 12:93, §2, 3° VAN\\nHET WETBOEK VAN VENNOOTSCHAPPEN EN VERENIGINGEN)\\nAlle verrichtingen verbonden aan de Bedrijfstak zullen boekhoudkundig worden geacht te zijn verricht voor\\nrekening van de Verkrijgende Vennootschap vanaf de Overdrachtsdatum of enige latere datum bepaald door\\nhet bestuursorgaan van respectievelijk de Verkrijgende Vennootschap en de Overdragende Vennootschap in\\nde authentieke akte houdende vaststelling van de Overdracht van de Bedrijfstak.\\nVI.BIJZONDERE VOORDELEN TOEGEKEND AAN DE BESTUURSORGANEN VAN DE BIJ DE\\nOVERDRACHT VAN DE BEDRIJFSTAK BETROKKEN VENNOOTSCHAPPEN (ARTIKELEN 12:103 JUNCTO\\n12:93, §2, 4° VAN HET WETBOEK VAN VENNOOTSCHAPPEN EN VERENIGINGEN)\\nEr worden geen bijzondere voordelen toegekend aan de leden van de bestuursorganen van de Verkrijgende\\nVennootschap of de Overdragende Vennootschap in het kader van de Overdracht van Bedrijfstak.\\nVII.DRAAGWIJDTE\\nDe bestuursorganen van de Verkrijgende Vennootschap en de Overdragende Vennootschap verklaren dat\\nhuidig Gezamenlijk Voorstel tot Overdracht van Bedrijfstak slechts een voorstel is en dat de Overdracht van\\nBedrijfstak enkel zal geschieden nadat de bevoegde organen van respectievelijk de Verkrijgende Vennootschap\\nen de Overdragende Vennootschap de voorgestelde Overdracht van Bedrijfstak definitief zullen goedkeuren\\novereenkomstig de bepalingen van een afzonderlijke overeenkomst afgesloten tussen onder meer de\\nOverdragende Vennootschap en de Overnemende Vennootschap (de \"Asset Purchase and Sale Agreement\"),.\\nZowel de Verkrijgende Vennootschap als de Overdragende Vennootschap behouden zich dus het recht voor\\nom wijzigingen, indien nodig, aan te brengen aan de Overdracht van Bedrijfstak, zoals uiteengezet in dit\\nGezamenlijk Voorstel tot Overdracht van Bedrijfstak tot op de datum van de definitieve goedkeuring door de\\nbevoegde organen van de Verkrijgende Vennootschap en de Overdragende Vennootschap van de Overdracht\\nvan Bedrijfstak, alsmede aan de Asset Purchase and Sale Agreement.\\nVIII. VOLMACHT\\nDit voorstel tot Overdracht van een Bedrijfstak zal voor elk van de betrokken Partijen worden neergelegd op\\nde griffie van de bevoegde ondernemingsrechtbank. De betrokken Partijen verlenen daartoe volmacht aan de\\nBV Ad-Ministerie, vertegenwoordigd door Adriaan de Leeuw, teneinde de formaliteiten te vervullen voor de\\nneerlegging van het voorstel tot Overdracht van een Bedrijfstak op de griffie van de bevoegde\\nondernemingsrechtbank.\\nAd-Ministerie BV, vertegenwoordigd door Adriaan de Leeuw - Lasthebber',\n",
       " 'is_digital': False}"
      ]
     },
     "execution_count": 4,
     "metadata": {},
     "output_type": "execute_result"
    }
   ],
   "source": [
    "with open(\"resources/publication.json\", \"r\") as f:\n",
    "    publication = json.load(f)\n",
    "publication"
   ]
  },
  {
   "cell_type": "markdown",
   "metadata": {},
   "source": [
    "Define a system message. A system prompt is the first message the chat language model sees. It is trained to adhere to its instructions."
   ]
  },
  {
   "cell_type": "code",
   "execution_count": 5,
   "metadata": {},
   "outputs": [],
   "source": [
    "system_message = \"\"\"\n",
    "You are a helpful assistant that helps summarize documents.\n",
    "Start with a short intro which must include:\n",
    "- company name\n",
    "- vat number\n",
    "- juridical form\n",
    "- address\n",
    "- publication date, publication number, publication link\n",
    "\n",
    "Then follow follow with a section where you summarize the publication text. Pay attention to the following topics:\n",
    "- changes in capital (increase/decrease in shares or change of owner of shares)\n",
    "- appointment and resignation of legal representatives (persons and organizations that can represent the legal entity towards third parties)\n",
    "- definition of signing rules (how many legal representatives are required to represent the legal entity towards third parties)\n",
    "- terminations, mergers & acquisitions and restructurings\n",
    "- change in general assembly date\n",
    "\n",
    "\n",
    "Start with listing the topics which are mentioned within the publications (do not include those not mentioned) plus any topics you deem important.\n",
    "Conclude with listing the topics which were not mentioned within the publications.\n",
    "\n",
    "Answer in English and use Markdown formatting.\n",
    "\"\"\""
   ]
  },
  {
   "cell_type": "code",
   "execution_count": 6,
   "metadata": {},
   "outputs": [],
   "source": [
    "completion = client.chat.completions.create(\n",
    "    model=\"gpt-4-turbo-2024-04-09\",\n",
    "    temperature=0,\n",
    "    messages=[\n",
    "        {\"role\": \"system\", \"content\": system_message},\n",
    "        {\n",
    "            \"role\": \"user\",\n",
    "            \"content\": f\"Summarize me the following publication: {publication}\",\n",
    "        },\n",
    "    ],\n",
    ")"
   ]
  },
  {
   "cell_type": "code",
   "execution_count": 7,
   "metadata": {},
   "outputs": [
    {
     "data": {
      "text/markdown": [
       "### Summary of Publication for NORRIQ Financial Services\n",
       "\n",
       "**Company Information:**\n",
       "- **Company Name:** NORRIQ Financial Services\n",
       "- **VAT Number:** 799497754\n",
       "- **Juridical Form:** BV (Besloten Vennootschap)\n",
       "- **Address:** Zuiderlaan 11, Bus 11, 8790 Waregem\n",
       "- **Publication Date:** 2023-05-31\n",
       "- **Publication Number:** 0070228\n",
       "- **Publication Link:** [Link to Publication](https://www.ejustice.just.fgov.be/tsv_pdf/2023/05/31/23070228.pdf)\n",
       "\n",
       "### Summary of Publication Text\n",
       "\n",
       "**Topics Mentioned:**\n",
       "- **Terminations, Mergers & Acquisitions and Restructurings:**\n",
       "  - NORRIQ Financial Services BV is involved in a restructuring process where it is proposed to acquire a business division from EY Consulting BV. This transaction is structured as a transfer of assets and liabilities that can operate autonomously, technically, and organizationally.\n",
       "  - The transfer is to be executed under the regulations outlined in articles 12:93 to 12:100 of the Companies and Associations Code, making the transfer effective by law, transferring all connected assets and liabilities to NORRIQ Financial Services BV.\n",
       "  - The personnel employed exclusively in the transferred business division will be employed by NORRIQ Financial Services BV post-transfer.\n",
       "\n",
       "**Important Additional Information:**\n",
       "- **Legal and Regulatory Compliance:**\n",
       "  - The transfer proposal has been drafted and approved in accordance with the relevant articles of the Companies and Associations Code.\n",
       "  - Formalities for the transfer, including the deposition of the proposal at the competent enterprise court, have been delegated to Ad-Ministerie BV, represented by Adriaan de Leeuw.\n",
       "\n",
       "**Topics Not Mentioned:**\n",
       "- Changes in capital (increase/decrease in shares or change of owner of shares)\n",
       "- Appointment and resignation of legal representatives\n",
       "- Definition of signing rules\n",
       "- Change in general assembly date\n",
       "\n",
       "This summary provides an overview of the key restructuring activity involving NORRIQ Financial Services as detailed in the publication, focusing on the acquisition of a business division from EY Consulting BV."
      ],
      "text/plain": [
       "<IPython.core.display.Markdown object>"
      ]
     },
     "metadata": {},
     "output_type": "display_data"
    }
   ],
   "source": [
    "display(Markdown(completion.choices[0].message.content))"
   ]
  }
 ],
 "metadata": {
  "kernelspec": {
   "display_name": "Python 3",
   "language": "python",
   "name": "python3"
  },
  "language_info": {
   "codemirror_mode": {
    "name": "ipython",
    "version": 3
   },
   "file_extension": ".py",
   "mimetype": "text/x-python",
   "name": "python",
   "nbconvert_exporter": "python",
   "pygments_lexer": "ipython3",
   "version": "3.11.9"
  }
 },
 "nbformat": 4,
 "nbformat_minor": 2
}
